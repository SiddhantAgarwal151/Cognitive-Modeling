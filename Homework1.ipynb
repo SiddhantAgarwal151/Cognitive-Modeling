{
 "cells": [
  {
   "cell_type": "markdown",
   "metadata": {},
   "source": [
    "# Question 2\n",
    "\n",
    "1. Forward - Ice Melting into a puddle, very easy computationally \\\n",
    "Backward - Trying to figure out what a puddle looked like as ice, given the many different possible starting states it is infeasible to compute\n",
    "2. Forward - Calculating where a paper airplane will land given wind conditions, easy enough with good models \\\n",
    "Backward - Calculating the wind based on where a paper airplane landed, a far more difficult problem due to the many paths it could have taken\n",
    "3. Forward - Conways Game of Life, incredibly easy computationally \\\n",
    "Backward - Finding the starting orientation of a finshed Game of Life, much more complex and impossible to know if you've arrived at the right conclusion"
   ]
  }
 ],
 "metadata": {
  "language_info": {
   "name": "python"
  }
 },
 "nbformat": 4,
 "nbformat_minor": 2
}
