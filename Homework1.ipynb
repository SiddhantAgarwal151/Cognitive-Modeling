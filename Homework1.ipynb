{
 "cells": [
  {
   "cell_type": "markdown",
   "metadata": {},
   "source": [
    "Problem 1:\n",
    "1. FALSE 🚫 - Stochastic models are random! They'll give different results each time, even with the same input.\n",
    "2. ✓ Spot on definition for psychology research terms.\n",
    "3. ✓ Python's type mixing will definitely cause a TypeError here.\n",
    "4. FALSE 🚫 - Git rebase actually CAN reapply commits on a different base branch. Totally possible.\n",
    "5. ✓ Detached HEAD means you're in commit limbo, off any branch.\n",
    "6. FALSE 🚫 - Python passes objects by reference, so mutable objects like lists can be modified inside functions.\n",
    "7. FALSE 🚫 - is checks object identity, not value. That's what == does.\n",
    "8. FALSE 🚫 - .gitignore can be overridden, and you can force-add tracked files."
   ]
  },
  {
   "cell_type": "markdown",
   "metadata": {},
   "source": [
    "Problem 2:\n",
    "\n",
    "1. Forward - Ice Melting into a puddle, very easy computationally \\\n",
    "Backward - Trying to figure out what a puddle looked like as ice, given the many different possible starting states it is infeasible to compute\n",
    "2. Forward - Calculating where a paper airplane will land given wind conditions, easy enough with good models \\\n",
    "Backward - Calculating the wind based on where a paper airplane landed, a far more difficult problem due to the many paths it could have taken\n",
    "3. Forward - Conways Game of Life, incredibly easy computationally \\\n",
    "Backward - Finding the starting orientation of a finshed Game of Life, much more complex and impossible to know if you've arrived at the right conclusion"
   ]
  },
  {
   "cell_type": "markdown",
   "metadata": {},
   "source": [
    "Problem 3:\n",
    "1. **`git restore`**:  \n",
    "   - **Purpose**: Undo changes in the working directory.\n",
    "   - **Use Case**: Discard uncommitted changes in a file or unstage files.  \n",
    "   - **Example**: `git restore test.txt` resets the file to its last committed state.\n",
    "\n",
    "2. **`git checkout`**:  \n",
    "   - **Purpose**: Switch branches or restore a file from a specific commit.  \n",
    "   - **Use Case**: Change the branch you're working on or reset a file to its committed version.  \n",
    "   - **Example**: `git checkout HEAD test.txt` restores the file to its last committed state.\n",
    "\n",
    "3. **`git reset`**:  \n",
    "   - **Purpose**: Undo commits, unstage files, or discard changes depending on the mode (`--soft`, `--mixed`, `--hard`).  \n",
    "   - **Use Case**: Rewind commit history or clear the staging area.  \n",
    "   - **Example**: `git reset --hard HEAD~1` removes the last commit and all associated changes.\n",
    "\n",
    "4. **`git revert`**:  \n",
    "   - **Purpose**: Undo a commit by creating a new commit that reverses its changes.  \n",
    "   - **Use Case**: Safely undo a commit without altering history.  \n",
    "   - **Example**: `git revert HEAD` creates a new commit to reverse the last commit.\n",
    "\n",
    "---\n",
    "\n",
    "### **Key Differences**\n",
    "\n",
    " Command    -     Working Directory - Staging Area - Commit - History\n",
    "                                 \n",
    " \n",
    "`git restore`  ✅                ✅           ❌             Discards uncommitted changes or unstages files. \n",
    "\n",
    "`git checkout` ✅ (Can)          ❌           ❌             Switches branches or restores files from a commit. \n",
    "\n",
    "`git reset`    ✅ (Optional)     ✅           ✅ (Can rewrite) Rewinds history, unstages, or discards changes.  \n",
    "\n",
    "`git revert`   ❌                ❌           ✅ (No rewrite) Creates a new commit to undo a previous commit. \n",
    "\n",
    "---\n",
    "\n",
    "Command table:\n",
    "\n",
    "| **Command**    | **Affects Commit History?** | **Affects Staging Area?** | **Affects Working Directory?** | **Typical Use Case**                                       |\n",
    "|-----------------|-----------------------------|---------------------------|---------------------------------|-----------------------------------------------------------|\n",
    "| **`git reset`** | ✅ (Can rewrite history)    | ✅ (Unstages files)        | ✅ (Optional, based on mode)    | Undo commits, unstage files, or discard changes. Could be harmful. |\n",
    "| **`git restore`** | ❌                          | ✅                         | ✅                             | Discard uncommitted changes or unstage files.             |\n",
    "| **`git rm`**     | ❌                          | ✅                         | ✅                             | Remove files from the working directory and the staging area. |"
   ]
  }
 ],
 "metadata": {
  "language_info": {
   "name": "python"
  }
 },
 "nbformat": 4,
 "nbformat_minor": 2
}
