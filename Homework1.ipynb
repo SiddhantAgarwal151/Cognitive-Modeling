{
 "cells": [
  {
   "cell_type": "markdown",
   "metadata": {},
   "source": [
    "Problem 1:\n",
    "1. FALSE 🚫 - Stochastic models are random! They'll give different results each time, even with the same input.\n",
    "2. ✓ Spot on definition for psychology research terms.\n",
    "3. ✓ Python's type mixing will definitely cause a TypeError here.\n",
    "4. FALSE 🚫 - Git rebase actually CAN reapply commits on a different base branch. Totally possible.\n",
    "5. ✓ Detached HEAD means you're in commit limbo, off any branch.\n",
    "6. FALSE 🚫 - Python passes objects by reference, so mutable objects like lists can be modified inside functions.\n",
    "7. FALSE 🚫 - is checks object identity, not value. That's what == does.\n",
    "8. FALSE 🚫 - .gitignore can be overridden, and you can force-add tracked files."
   ]
  }
 ],
 "metadata": {
  "language_info": {
   "name": "python"
  }
 },
 "nbformat": 4,
 "nbformat_minor": 2
}
